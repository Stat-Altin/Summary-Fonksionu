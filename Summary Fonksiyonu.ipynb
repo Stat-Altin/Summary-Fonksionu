{
 "cells": [
  {
   "cell_type": "markdown",
   "id": "93186b2a-afd8-42b3-9ebf-47413d060f02",
   "metadata": {},
   "source": [
    "### Kütüphane"
   ]
  },
  {
   "cell_type": "code",
   "execution_count": 4,
   "id": "70dbc328-c5f0-4394-8678-efe6ad67b7e2",
   "metadata": {},
   "outputs": [],
   "source": [
    "import pandas as pd\n",
    "import numpy as np\n",
    "import scipy.stats as stats\n",
    "\n",
    "import warnings\n",
    "warnings.filterwarnings('ignore')"
   ]
  },
  {
   "cell_type": "markdown",
   "id": "ee295152-a8c4-4fd7-a52b-26a0fe3c016f",
   "metadata": {},
   "source": [
    "### Veri"
   ]
  },
  {
   "cell_type": "code",
   "execution_count": 5,
   "id": "87d2160f-abaf-4eb1-a7ac-1d0a381bf442",
   "metadata": {},
   "outputs": [],
   "source": [
    "df = pd.read_csv(\"C:/Users/Rıdvan/Python/data/USA_Housing.csv\")\n",
    "df['Avg. Area Number of Rooms'][2] = 50"
   ]
  },
  {
   "cell_type": "markdown",
   "id": "2625c74c-d314-48e3-bdd5-1a8c89f23fc8",
   "metadata": {},
   "source": [
    "### Fonksiyon"
   ]
  },
  {
   "cell_type": "code",
   "execution_count": 6,
   "id": "51be5a17-5cbe-4c49-9899-d29cdb815421",
   "metadata": {},
   "outputs": [
    {
     "name": "stdout",
     "output_type": "stream",
     "text": [
      "\n",
      "\u001b[1;7;96m Tablo Boyutu \u001b[0m\n",
      "\n",
      "Satır Sayısı: 5000\n",
      "Sütun Sayısı: 7\n",
      "\n",
      "\u001b[1;7;92m Bilgi \u001b[0m\n",
      "\n",
      "<class 'pandas.core.frame.DataFrame'>\n",
      "RangeIndex: 5000 entries, 0 to 4999\n",
      "Data columns (total 7 columns):\n",
      " #   Column                        Non-Null Count  Dtype  \n",
      "---  ------                        --------------  -----  \n",
      " 0   Avg. Area Income              5000 non-null   float64\n",
      " 1   Avg. Area House Age           5000 non-null   float64\n",
      " 2   Avg. Area Number of Rooms     5000 non-null   float64\n",
      " 3   Avg. Area Number of Bedrooms  5000 non-null   float64\n",
      " 4   Area Population               5000 non-null   float64\n",
      " 5   Price                         5000 non-null   float64\n",
      " 6   Address                       5000 non-null   object \n",
      "dtypes: float64(6), object(1)\n",
      "memory usage: 273.6+ KB\n",
      "None\n",
      "\n",
      "\u001b[1;7;91m Eksik Değer \u001b[0m\n",
      "                              Null Value  % Null\n",
      "Avg. Area Income                       0    0.00\n",
      "Avg. Area House Age                    0    0.00\n",
      "Avg. Area Number of Rooms              0    0.00\n",
      "Avg. Area Number of Bedrooms           0    0.00\n",
      "Area Population                        0    0.00\n",
      "Price                                  0    0.00\n",
      "Address                                0    0.00\n",
      "\n",
      "\u001b[1;7m Tekrarlar \u001b[0m\n",
      "\n",
      "Tekrar Eden Satır Sayısı: 0\n",
      "\n",
      "\u001b[1;7;95m Betimsel İstatistik \u001b[0m\n",
      "                                count         mean        std       min        25%          50%          75%          max\n",
      "Avg. Area Income             5,000.00    68,583.11  10,657.99 17,796.63  61,480.56    68,804.29    75,783.34   107,701.75\n",
      "Avg. Area House Age          5,000.00         5.98       0.99      2.64       5.32         5.97         6.65         9.52\n",
      "Avg. Area Number of Rooms    5,000.00         7.00       1.18      3.24       6.30         7.00         7.67        50.00\n",
      "Avg. Area Number of Bedrooms 5,000.00         3.98       1.23      2.00       3.14         4.05         4.49         6.50\n",
      "Area Population              5,000.00    36,163.52   9,925.65    172.61  29,403.93    36,199.41    42,861.29    69,621.71\n",
      "Price                        5,000.00 1,232,072.65 353,117.63 15,938.66 997,577.14 1,232,669.38 1,471,210.20 2,469,065.59\n",
      "\n",
      "\u001b[1;7;94m Normallik Testi \u001b[0m\n",
      "                              Çarpıklık  Basıklık                    Sonuç\n",
      "Avg. Area Income                  -0.03      0.05        \u001b[1;94mNormal\u001b[0m\n",
      "Avg. Area House Age               -0.01     -0.08        \u001b[1;94mNormal\u001b[0m\n",
      "Avg. Area Number of Rooms          9.76    357.59  \u001b[1;91mNormal Değil\u001b[0m\n",
      "Avg. Area Number of Bedrooms       0.38     -0.70        \u001b[1;94mNormal\u001b[0m\n",
      "Area Population                    0.05     -0.01        \u001b[1;94mNormal\u001b[0m\n",
      "Price                             -0.00     -0.05        \u001b[1;94mNormal\u001b[0m\n"
     ]
    }
   ],
   "source": [
    "def summary(data):\n",
    "    pd.options.display.float_format = '{:,.2f}'.format\n",
    "    \n",
    "    print('\\n\\033[1;7;96m Tablo Boyutu \\033[0m\\n')\n",
    "    print(f'Satır Sayısı: {data.shape[0]}\\nSütun Sayısı: {data.shape[1]}')\n",
    "    \n",
    "    print('\\n\\033[1;7;92m Bilgi \\033[0m\\n')\n",
    "    print(data.info())\n",
    "    \n",
    "    print('\\n\\033[1;7;91m Eksik Değer \\033[0m')\n",
    "    null_value = pd.DataFrame({'Null Value': data.isnull().sum(),\n",
    "                               '% Null': data.isnull().sum() / data.shape[0] * 100})\n",
    "    print(null_value) \n",
    "    # Yalnızca eksik değerlerin olduğu tabloyu görmek istersen \"data[data.isnull().any(axis = 1)]\" kodunu kullanabilirsin.\n",
    "    # Eksik değerlerin birbiriyle olan ilişkisini görmek istersen \"msno.matrix(data, ax = fig.gca())\" kodunu kullanabilirsin.')\n",
    "    \n",
    "    print('\\n\\033[1;7m Tekrarlar \\033[0m\\n')\n",
    "    print(f'Tekrar Eden Satır Sayısı: {data.duplicated().sum()}')\n",
    "    # Tekrar eden satır sayılarını silmek istersen \"data.drop_duplicates(inplace = True)\" kodunu kullanabilirsin.\n",
    "    \n",
    "    print('\\n\\033[1;7;95m Betimsel İstatistik \\033[0m')\n",
    "    print(data.describe().T.to_string())\n",
    "    \n",
    "    print('\\n\\033[1;7;94m Normallik Testi \\033[0m')\n",
    "    \n",
    "    data = data.select_dtypes(include = ['float', 'int'])\n",
    "\n",
    "    normalite = pd.DataFrame({'Çarpıklık': data.skew(), 'Basıklık': data.kurtosis()})\n",
    "    normalite['Sonuç'] = '\\033[1;94mNormal\\033[0m'\n",
    "\n",
    "    for column in data.columns:\n",
    "        \n",
    "        skew_value = data[column].skew()\n",
    "        kurtosis_value = data[column].kurtosis()\n",
    "\n",
    "        if not (-2 <= skew_value <= 2) or not (-2 <= kurtosis_value <= 2):\n",
    "            \n",
    "            normalite.loc[column, 'Sonuç'] = '\\033[1;91mNormal Değil\\033[0m'\n",
    "            \n",
    "    print(normalite)\n",
    "    \n",
    "summary(df)"
   ]
  },
  {
   "cell_type": "code",
   "execution_count": null,
   "id": "a74479e0-83c9-441a-92e6-2e3fcaabd507",
   "metadata": {},
   "outputs": [],
   "source": []
  }
 ],
 "metadata": {
  "kernelspec": {
   "display_name": "Python 3 (ipykernel)",
   "language": "python",
   "name": "python3"
  },
  "language_info": {
   "codemirror_mode": {
    "name": "ipython",
    "version": 3
   },
   "file_extension": ".py",
   "mimetype": "text/x-python",
   "name": "python",
   "nbconvert_exporter": "python",
   "pygments_lexer": "ipython3",
   "version": "3.10.9"
  }
 },
 "nbformat": 4,
 "nbformat_minor": 5
}
